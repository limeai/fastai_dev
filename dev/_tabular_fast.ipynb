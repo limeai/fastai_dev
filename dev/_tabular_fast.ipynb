{
 "cells": [
  {
   "cell_type": "code",
   "execution_count": null,
   "metadata": {},
   "outputs": [],
   "source": [
    "#export\n",
    "from local.imports import *\n",
    "from local.test import *\n",
    "from local.core import *\n",
    "from local.data.all import *\n",
    "from local.notebook.showdoc import show_doc"
   ]
  },
  {
   "cell_type": "code",
   "execution_count": null,
   "metadata": {},
   "outputs": [],
   "source": [
    "adult_source = decompress_data(URLs.ADULT_SAMPLE)\n",
    "df = pd.read_csv(adult_source/'adult.csv')"
   ]
  },
  {
   "cell_type": "code",
   "execution_count": null,
   "metadata": {},
   "outputs": [],
   "source": [
    "cat_names = ['workclass', 'education', 'marital-status', 'occupation', 'relationship', 'race']\n",
    "cont_names = ['age', 'fnlwgt', 'education-num']"
   ]
  },
  {
   "cell_type": "code",
   "execution_count": null,
   "metadata": {},
   "outputs": [
    {
     "data": {
      "text/html": [
       "<div>\n",
       "<style scoped>\n",
       "    .dataframe tbody tr th:only-of-type {\n",
       "        vertical-align: middle;\n",
       "    }\n",
       "\n",
       "    .dataframe tbody tr th {\n",
       "        vertical-align: top;\n",
       "    }\n",
       "\n",
       "    .dataframe thead th {\n",
       "        text-align: right;\n",
       "    }\n",
       "</style>\n",
       "<table border=\"1\" class=\"dataframe\">\n",
       "  <thead>\n",
       "    <tr style=\"text-align: right;\">\n",
       "      <th></th>\n",
       "      <th>age</th>\n",
       "      <th>workclass</th>\n",
       "      <th>fnlwgt</th>\n",
       "      <th>education</th>\n",
       "      <th>education-num</th>\n",
       "      <th>marital-status</th>\n",
       "      <th>occupation</th>\n",
       "      <th>relationship</th>\n",
       "      <th>race</th>\n",
       "      <th>sex</th>\n",
       "      <th>capital-gain</th>\n",
       "      <th>capital-loss</th>\n",
       "      <th>hours-per-week</th>\n",
       "      <th>native-country</th>\n",
       "      <th>salary</th>\n",
       "    </tr>\n",
       "  </thead>\n",
       "  <tbody>\n",
       "    <tr>\n",
       "      <th>0</th>\n",
       "      <td>49</td>\n",
       "      <td>Private</td>\n",
       "      <td>101320</td>\n",
       "      <td>Assoc-acdm</td>\n",
       "      <td>12.0</td>\n",
       "      <td>Married-civ-spouse</td>\n",
       "      <td>NaN</td>\n",
       "      <td>Wife</td>\n",
       "      <td>White</td>\n",
       "      <td>Female</td>\n",
       "      <td>0</td>\n",
       "      <td>1902</td>\n",
       "      <td>40</td>\n",
       "      <td>United-States</td>\n",
       "      <td>&gt;=50k</td>\n",
       "    </tr>\n",
       "    <tr>\n",
       "      <th>1</th>\n",
       "      <td>44</td>\n",
       "      <td>Private</td>\n",
       "      <td>236746</td>\n",
       "      <td>Masters</td>\n",
       "      <td>14.0</td>\n",
       "      <td>Divorced</td>\n",
       "      <td>Exec-managerial</td>\n",
       "      <td>Not-in-family</td>\n",
       "      <td>White</td>\n",
       "      <td>Male</td>\n",
       "      <td>10520</td>\n",
       "      <td>0</td>\n",
       "      <td>45</td>\n",
       "      <td>United-States</td>\n",
       "      <td>&gt;=50k</td>\n",
       "    </tr>\n",
       "    <tr>\n",
       "      <th>2</th>\n",
       "      <td>38</td>\n",
       "      <td>Private</td>\n",
       "      <td>96185</td>\n",
       "      <td>HS-grad</td>\n",
       "      <td>NaN</td>\n",
       "      <td>Divorced</td>\n",
       "      <td>NaN</td>\n",
       "      <td>Unmarried</td>\n",
       "      <td>Black</td>\n",
       "      <td>Female</td>\n",
       "      <td>0</td>\n",
       "      <td>0</td>\n",
       "      <td>32</td>\n",
       "      <td>United-States</td>\n",
       "      <td>&lt;50k</td>\n",
       "    </tr>\n",
       "    <tr>\n",
       "      <th>3</th>\n",
       "      <td>38</td>\n",
       "      <td>Self-emp-inc</td>\n",
       "      <td>112847</td>\n",
       "      <td>Prof-school</td>\n",
       "      <td>15.0</td>\n",
       "      <td>Married-civ-spouse</td>\n",
       "      <td>Prof-specialty</td>\n",
       "      <td>Husband</td>\n",
       "      <td>Asian-Pac-Islander</td>\n",
       "      <td>Male</td>\n",
       "      <td>0</td>\n",
       "      <td>0</td>\n",
       "      <td>40</td>\n",
       "      <td>United-States</td>\n",
       "      <td>&gt;=50k</td>\n",
       "    </tr>\n",
       "    <tr>\n",
       "      <th>4</th>\n",
       "      <td>42</td>\n",
       "      <td>Self-emp-not-inc</td>\n",
       "      <td>82297</td>\n",
       "      <td>7th-8th</td>\n",
       "      <td>NaN</td>\n",
       "      <td>Married-civ-spouse</td>\n",
       "      <td>Other-service</td>\n",
       "      <td>Wife</td>\n",
       "      <td>Black</td>\n",
       "      <td>Female</td>\n",
       "      <td>0</td>\n",
       "      <td>0</td>\n",
       "      <td>50</td>\n",
       "      <td>United-States</td>\n",
       "      <td>&lt;50k</td>\n",
       "    </tr>\n",
       "  </tbody>\n",
       "</table>\n",
       "</div>"
      ],
      "text/plain": [
       "   age          workclass  fnlwgt     education  education-num  \\\n",
       "0   49            Private  101320    Assoc-acdm           12.0   \n",
       "1   44            Private  236746       Masters           14.0   \n",
       "2   38            Private   96185       HS-grad            NaN   \n",
       "3   38       Self-emp-inc  112847   Prof-school           15.0   \n",
       "4   42   Self-emp-not-inc   82297       7th-8th            NaN   \n",
       "\n",
       "        marital-status        occupation    relationship                 race  \\\n",
       "0   Married-civ-spouse               NaN            Wife                White   \n",
       "1             Divorced   Exec-managerial   Not-in-family                White   \n",
       "2             Divorced               NaN       Unmarried                Black   \n",
       "3   Married-civ-spouse    Prof-specialty         Husband   Asian-Pac-Islander   \n",
       "4   Married-civ-spouse     Other-service            Wife                Black   \n",
       "\n",
       "       sex  capital-gain  capital-loss  hours-per-week  native-country salary  \n",
       "0   Female             0          1902              40   United-States  >=50k  \n",
       "1     Male         10520             0              45   United-States  >=50k  \n",
       "2   Female             0             0              32   United-States   <50k  \n",
       "3     Male             0             0              40   United-States  >=50k  \n",
       "4   Female             0             0              50   United-States   <50k  "
      ]
     },
     "execution_count": null,
     "metadata": {},
     "output_type": "execute_result"
    }
   ],
   "source": [
    "df.head()"
   ]
  },
  {
   "cell_type": "markdown",
   "metadata": {},
   "source": [
    "## Preprocessing"
   ]
  },
  {
   "cell_type": "code",
   "execution_count": null,
   "metadata": {},
   "outputs": [],
   "source": [
    "means,stds = {},{}\n",
    "for n in cont_names:\n",
    "    if pd.isnull(df[n]).any(): \n",
    "        df[n+\"_na\"] = pd.isnull(df[n])\n",
    "        cat_names.append(n+'_na')\n",
    "        df[n] = df[n].fillna(df[n].median())\n",
    "    means[n],stds[n] = (df[n].mean(),df[n].std())\n",
    "    df[n] = (df[n] - means[n]) / stds[n]"
   ]
  },
  {
   "cell_type": "code",
   "execution_count": null,
   "metadata": {},
   "outputs": [
    {
     "data": {
      "text/plain": [
       "['workclass',\n",
       " 'education',\n",
       " 'marital-status',\n",
       " 'occupation',\n",
       " 'relationship',\n",
       " 'race',\n",
       " 'education-num_na']"
      ]
     },
     "execution_count": null,
     "metadata": {},
     "output_type": "execute_result"
    }
   ],
   "source": [
    "cat_names"
   ]
  },
  {
   "cell_type": "code",
   "execution_count": null,
   "metadata": {},
   "outputs": [],
   "source": [
    "for n in cat_names + [\"salary\"]: df[n] = pd.Categorical(df.loc[:,n], ordered=True)"
   ]
  },
  {
   "cell_type": "code",
   "execution_count": null,
   "metadata": {},
   "outputs": [],
   "source": [
    "cats  = df[cat_names]\n",
    "conts = df[cont_names]\n",
    "y = df[\"salary\"]"
   ]
  },
  {
   "cell_type": "code",
   "execution_count": null,
   "metadata": {},
   "outputs": [
    {
     "data": {
      "text/html": [
       "<div>\n",
       "<style scoped>\n",
       "    .dataframe tbody tr th:only-of-type {\n",
       "        vertical-align: middle;\n",
       "    }\n",
       "\n",
       "    .dataframe tbody tr th {\n",
       "        vertical-align: top;\n",
       "    }\n",
       "\n",
       "    .dataframe thead th {\n",
       "        text-align: right;\n",
       "    }\n",
       "</style>\n",
       "<table border=\"1\" class=\"dataframe\">\n",
       "  <thead>\n",
       "    <tr style=\"text-align: right;\">\n",
       "      <th></th>\n",
       "      <th>workclass</th>\n",
       "      <th>education</th>\n",
       "      <th>marital-status</th>\n",
       "      <th>occupation</th>\n",
       "      <th>relationship</th>\n",
       "      <th>race</th>\n",
       "      <th>education-num_na</th>\n",
       "    </tr>\n",
       "  </thead>\n",
       "  <tbody>\n",
       "    <tr>\n",
       "      <th>0</th>\n",
       "      <td>Private</td>\n",
       "      <td>Assoc-acdm</td>\n",
       "      <td>Married-civ-spouse</td>\n",
       "      <td>NaN</td>\n",
       "      <td>Wife</td>\n",
       "      <td>White</td>\n",
       "      <td>False</td>\n",
       "    </tr>\n",
       "    <tr>\n",
       "      <th>1</th>\n",
       "      <td>Private</td>\n",
       "      <td>Masters</td>\n",
       "      <td>Divorced</td>\n",
       "      <td>Exec-managerial</td>\n",
       "      <td>Not-in-family</td>\n",
       "      <td>White</td>\n",
       "      <td>False</td>\n",
       "    </tr>\n",
       "    <tr>\n",
       "      <th>2</th>\n",
       "      <td>Private</td>\n",
       "      <td>HS-grad</td>\n",
       "      <td>Divorced</td>\n",
       "      <td>NaN</td>\n",
       "      <td>Unmarried</td>\n",
       "      <td>Black</td>\n",
       "      <td>True</td>\n",
       "    </tr>\n",
       "    <tr>\n",
       "      <th>3</th>\n",
       "      <td>Self-emp-inc</td>\n",
       "      <td>Prof-school</td>\n",
       "      <td>Married-civ-spouse</td>\n",
       "      <td>Prof-specialty</td>\n",
       "      <td>Husband</td>\n",
       "      <td>Asian-Pac-Islander</td>\n",
       "      <td>False</td>\n",
       "    </tr>\n",
       "    <tr>\n",
       "      <th>4</th>\n",
       "      <td>Self-emp-not-inc</td>\n",
       "      <td>7th-8th</td>\n",
       "      <td>Married-civ-spouse</td>\n",
       "      <td>Other-service</td>\n",
       "      <td>Wife</td>\n",
       "      <td>Black</td>\n",
       "      <td>True</td>\n",
       "    </tr>\n",
       "  </tbody>\n",
       "</table>\n",
       "</div>"
      ],
      "text/plain": [
       "           workclass     education       marital-status        occupation  \\\n",
       "0            Private    Assoc-acdm   Married-civ-spouse               NaN   \n",
       "1            Private       Masters             Divorced   Exec-managerial   \n",
       "2            Private       HS-grad             Divorced               NaN   \n",
       "3       Self-emp-inc   Prof-school   Married-civ-spouse    Prof-specialty   \n",
       "4   Self-emp-not-inc       7th-8th   Married-civ-spouse     Other-service   \n",
       "\n",
       "     relationship                 race education-num_na  \n",
       "0            Wife                White            False  \n",
       "1   Not-in-family                White            False  \n",
       "2       Unmarried                Black             True  \n",
       "3         Husband   Asian-Pac-Islander            False  \n",
       "4            Wife                Black             True  "
      ]
     },
     "execution_count": null,
     "metadata": {},
     "output_type": "execute_result"
    }
   ],
   "source": [
    "cats.head()"
   ]
  },
  {
   "cell_type": "code",
   "execution_count": null,
   "metadata": {},
   "outputs": [
    {
     "data": {
      "text/html": [
       "<div>\n",
       "<style scoped>\n",
       "    .dataframe tbody tr th:only-of-type {\n",
       "        vertical-align: middle;\n",
       "    }\n",
       "\n",
       "    .dataframe tbody tr th {\n",
       "        vertical-align: top;\n",
       "    }\n",
       "\n",
       "    .dataframe thead th {\n",
       "        text-align: right;\n",
       "    }\n",
       "</style>\n",
       "<table border=\"1\" class=\"dataframe\">\n",
       "  <thead>\n",
       "    <tr style=\"text-align: right;\">\n",
       "      <th></th>\n",
       "      <th>age</th>\n",
       "      <th>fnlwgt</th>\n",
       "      <th>education-num</th>\n",
       "    </tr>\n",
       "  </thead>\n",
       "  <tbody>\n",
       "    <tr>\n",
       "      <th>0</th>\n",
       "      <td>0.763785</td>\n",
       "      <td>-0.838071</td>\n",
       "      <td>0.752389</td>\n",
       "    </tr>\n",
       "    <tr>\n",
       "      <th>1</th>\n",
       "      <td>0.397227</td>\n",
       "      <td>0.444980</td>\n",
       "      <td>1.535566</td>\n",
       "    </tr>\n",
       "    <tr>\n",
       "      <th>2</th>\n",
       "      <td>-0.042641</td>\n",
       "      <td>-0.886721</td>\n",
       "      <td>-0.030787</td>\n",
       "    </tr>\n",
       "    <tr>\n",
       "      <th>3</th>\n",
       "      <td>-0.042641</td>\n",
       "      <td>-0.728862</td>\n",
       "      <td>1.927154</td>\n",
       "    </tr>\n",
       "    <tr>\n",
       "      <th>4</th>\n",
       "      <td>0.250604</td>\n",
       "      <td>-1.018298</td>\n",
       "      <td>-0.030787</td>\n",
       "    </tr>\n",
       "  </tbody>\n",
       "</table>\n",
       "</div>"
      ],
      "text/plain": [
       "        age    fnlwgt  education-num\n",
       "0  0.763785 -0.838071       0.752389\n",
       "1  0.397227  0.444980       1.535566\n",
       "2 -0.042641 -0.886721      -0.030787\n",
       "3 -0.042641 -0.728862       1.927154\n",
       "4  0.250604 -1.018298      -0.030787"
      ]
     },
     "execution_count": null,
     "metadata": {},
     "output_type": "execute_result"
    }
   ],
   "source": [
    "conts.head()"
   ]
  },
  {
   "cell_type": "markdown",
   "metadata": {},
   "source": [
    "## DataBunch"
   ]
  },
  {
   "cell_type": "code",
   "execution_count": null,
   "metadata": {},
   "outputs": [],
   "source": [
    "class DFDataset(GetAttr):\n",
    "    _xtra = [\"__len__\"]\n",
    "    def __init__(self, cats, conts, y): \n",
    "        self.y,self.conts,self.cats = y,conts,cats\n",
    "        self.default = y\n",
    "    def __getitem__(self, i): \n",
    "        return ((self.cats.iloc[i].values,self.conts.iloc[i].values), self.y[i])"
   ]
  },
  {
   "cell_type": "code",
   "execution_count": null,
   "metadata": {},
   "outputs": [],
   "source": [
    "cats = df.loc[:, cat_names]\n",
    "for n in cat_names: cats[n] = cats[n].cat.codes\n",
    "conts = df[cont_names]"
   ]
  },
  {
   "cell_type": "code",
   "execution_count": null,
   "metadata": {},
   "outputs": [],
   "source": [
    "ds = DFDataset(cats, conts, y.cat.codes)"
   ]
  },
  {
   "cell_type": "code",
   "execution_count": null,
   "metadata": {},
   "outputs": [
    {
     "data": {
      "text/plain": [
       "((array([ 4,  7,  2, -1,  5,  4,  0], dtype=int8),\n",
       "  array([ 0.76378467, -0.83807092,  0.75238915])),\n",
       " 1)"
      ]
     },
     "execution_count": null,
     "metadata": {},
     "output_type": "execute_result"
    }
   ],
   "source": [
    "ds[0]"
   ]
  },
  {
   "cell_type": "code",
   "execution_count": null,
   "metadata": {},
   "outputs": [],
   "source": [
    "dl = TfmdDL(ds)"
   ]
  },
  {
   "cell_type": "code",
   "execution_count": null,
   "metadata": {},
   "outputs": [
    {
     "data": {
      "text/plain": [
       "((tensor([[ 4,  7,  2, -1,  5,  4,  0],\n",
       "          [ 4, 12,  0,  4,  1,  4,  0],\n",
       "          [ 4, 11,  0, -1,  4,  2,  1],\n",
       "          [ 5, 14,  2, 10,  0,  1,  0],\n",
       "          [ 6,  5,  2,  8,  5,  2,  1],\n",
       "          [ 4, 11,  4,  6,  3,  4,  0],\n",
       "          [ 4, 15,  0, -1,  2,  4,  0],\n",
       "          [ 4,  1,  2, -1,  0,  4,  0],\n",
       "          [ 4, 11,  2,  3,  0,  4,  0],\n",
       "          [ 5, 11,  2, -1,  0,  4,  1],\n",
       "          [ 4,  9,  4, -1,  3,  2,  0],\n",
       "          [ 4,  1,  4,  1,  3,  4,  1],\n",
       "          [ 4,  8,  2, -1,  5,  4,  1],\n",
       "          [ 4,  9,  2, -1,  0,  4,  1],\n",
       "          [ 4,  8,  2, 12,  0,  4,  1],\n",
       "          [ 4, 11,  6, -1,  4,  4,  0]], dtype=torch.int8),\n",
       "  tensor([[ 0.7638, -0.8381,  0.7524],\n",
       "          [ 0.3972,  0.4450,  1.5356],\n",
       "          [-0.0426, -0.8867, -0.0308],\n",
       "          [-0.0426, -0.7289,  1.9272],\n",
       "          [ 0.2506, -1.0183, -0.0308],\n",
       "          [-1.3622, -1.1991, -0.4224],\n",
       "          [ 0.7638, -1.3770, -0.0308],\n",
       "          [-0.1160, -0.4817, -1.2056],\n",
       "          [ 0.5439,  1.3116, -0.4224],\n",
       "          [-0.1893,  0.2552, -0.0308],\n",
       "          [-1.1423,  3.2160,  1.1440],\n",
       "          [-1.5089,  0.2511, -0.0308],\n",
       "          [-0.6291, -0.3580, -0.0308],\n",
       "          [-0.6291, -1.2742, -0.0308],\n",
       "          [ 0.3239, -0.9959, -0.0308],\n",
       "          [ 0.9104,  0.8958, -0.4224]], dtype=torch.float64)),\n",
       " tensor([1, 1, 0, 1, 0, 0, 0, 0, 1, 1, 0, 0, 0, 1, 0, 0], dtype=torch.int8))"
      ]
     },
     "execution_count": null,
     "metadata": {},
     "output_type": "execute_result"
    }
   ],
   "source": [
    "dl.one_batch()"
   ]
  },
  {
   "cell_type": "markdown",
   "metadata": {},
   "source": [
    "## With rapids"
   ]
  },
  {
   "cell_type": "code",
   "execution_count": null,
   "metadata": {},
   "outputs": [],
   "source": [
    "import cudf\n",
    "import nvcategory"
   ]
  },
  {
   "cell_type": "code",
   "execution_count": null,
   "metadata": {},
   "outputs": [],
   "source": [
    "df = pd.read_csv(adult_source/'adult.csv')\n",
    "df = cudf.from_pandas(df)"
   ]
  },
  {
   "cell_type": "code",
   "execution_count": null,
   "metadata": {},
   "outputs": [],
   "source": [
    "cat_names = ['workclass', 'education', 'marital-status', 'occupation', 'relationship', 'race']\n",
    "cont_names = ['age', 'fnlwgt', 'education-num']"
   ]
  },
  {
   "cell_type": "code",
   "execution_count": null,
   "metadata": {},
   "outputs": [],
   "source": [
    "means,stds = {},{}\n",
    "for n in cont_names:\n",
    "    if df[n].isnull().any(): \n",
    "        df[n+\"_na\"] = df[n].isnull()\n",
    "        cat_names.append(n+'_na')\n",
    "        df[n] = df[n].fillna(df[n].mean()) #TODO: request median\n",
    "    means[n],stds[n] = (df[n].mean(),df[n].std())\n",
    "    df[n] = (df[n] - means[n]) / stds[n]"
   ]
  },
  {
   "cell_type": "code",
   "execution_count": null,
   "metadata": {},
   "outputs": [
    {
     "data": {
      "text/plain": [
       "['workclass',\n",
       " 'education',\n",
       " 'marital-status',\n",
       " 'occupation',\n",
       " 'relationship',\n",
       " 'race',\n",
       " 'education-num_na']"
      ]
     },
     "execution_count": null,
     "metadata": {},
     "output_type": "execute_result"
    }
   ],
   "source": [
    "cat_names"
   ]
  },
  {
   "cell_type": "code",
   "execution_count": null,
   "metadata": {},
   "outputs": [],
   "source": [
    "classes = {}\n",
    "for n in cat_names + [\"salary\"]: \n",
    "    if df[n].dtype != \"object\": df[n] = df[n].astype(\"str\")\n",
    "    classes[n] = nvcategory.from_strings(df[n].data).keys()\n",
    "    df[n] = nvcategory.from_strings(df[n].data).set_keys(classes[n]).values()"
   ]
  },
  {
   "cell_type": "code",
   "execution_count": null,
   "metadata": {},
   "outputs": [],
   "source": [
    "cats  = df[cat_names]\n",
    "conts = df[cont_names]\n",
    "y = df[\"salary\"]"
   ]
  },
  {
   "cell_type": "code",
   "execution_count": null,
   "metadata": {},
   "outputs": [
    {
     "name": "stdout",
     "output_type": "stream",
     "text": [
      "   workclass  education  marital-status  occupation  relationship  race  education-num_na\n",
      "0          4         13               2           0             5     4                 0\n",
      "1          4          4               0          11             1     4                 0\n",
      "2          4          3               0           0             4     2                 1\n",
      "3          5          6               2           3             0     1                 0\n",
      "4          6         11               2          15             5     2                 1\n"
     ]
    }
   ],
   "source": [
    "print(cats.head())"
   ]
  },
  {
   "cell_type": "code",
   "execution_count": null,
   "metadata": {},
   "outputs": [
    {
     "name": "stdout",
     "output_type": "stream",
     "text": [
      "                    age              fnlwgt       education-num\n",
      "0    0.7637846676602527 -0.8380709161872288  0.7519271022067199\n",
      "1    0.3972273770201378 0.44498004180288914  1.5351092115844664\n",
      "2  -0.04264137174799999 -0.8867208554107108                 0.0\n",
      "3  -0.04264137174799999 -0.7288619873792298  1.9267002662733397\n",
      "4    0.2506044607640919 -1.0182983346581724                 0.0\n"
     ]
    }
   ],
   "source": [
    "print(conts.head())"
   ]
  },
  {
   "cell_type": "markdown",
   "metadata": {},
   "source": [
    "## DataBunch TODO"
   ]
  },
  {
   "cell_type": "code",
   "execution_count": null,
   "metadata": {},
   "outputs": [],
   "source": [
    "class DFDataset(GetAttr):\n",
    "    _xtra = [\"__len__\"]\n",
    "    def __init__(self, cats, conts, y): \n",
    "        self.y,self.conts,self.cats = y,conts,cats\n",
    "        self.default = y\n",
    "    def __getitem__(self, i): \n",
    "        return ((self.cats.iloc[i].values,self.conts.iloc[i].values), self.y[i])"
   ]
  },
  {
   "cell_type": "code",
   "execution_count": null,
   "metadata": {},
   "outputs": [],
   "source": [
    "cats = df.loc[:, cat_names]\n",
    "for n in cat_names: cats[n] = cats[n].cat.codes\n",
    "conts = df[cont_names]"
   ]
  },
  {
   "cell_type": "code",
   "execution_count": null,
   "metadata": {},
   "outputs": [],
   "source": [
    "ds = DFDataset(cats, conts, y.cat.codes)"
   ]
  },
  {
   "cell_type": "code",
   "execution_count": null,
   "metadata": {},
   "outputs": [
    {
     "data": {
      "text/plain": [
       "((array([ 4,  7,  2, -1,  5,  4,  0], dtype=int8),\n",
       "  array([ 0.76378467, -0.83807092,  0.75238915])),\n",
       " 1)"
      ]
     },
     "execution_count": null,
     "metadata": {},
     "output_type": "execute_result"
    }
   ],
   "source": [
    "ds[0]"
   ]
  },
  {
   "cell_type": "code",
   "execution_count": null,
   "metadata": {},
   "outputs": [],
   "source": [
    "dl = TfmdDL(ds)"
   ]
  },
  {
   "cell_type": "code",
   "execution_count": null,
   "metadata": {},
   "outputs": [
    {
     "data": {
      "text/plain": [
       "((tensor([[ 4,  7,  2, -1,  5,  4,  0],\n",
       "          [ 4, 12,  0,  4,  1,  4,  0],\n",
       "          [ 4, 11,  0, -1,  4,  2,  1],\n",
       "          [ 5, 14,  2, 10,  0,  1,  0],\n",
       "          [ 6,  5,  2,  8,  5,  2,  1],\n",
       "          [ 4, 11,  4,  6,  3,  4,  0],\n",
       "          [ 4, 15,  0, -1,  2,  4,  0],\n",
       "          [ 4,  1,  2, -1,  0,  4,  0],\n",
       "          [ 4, 11,  2,  3,  0,  4,  0],\n",
       "          [ 5, 11,  2, -1,  0,  4,  1],\n",
       "          [ 4,  9,  4, -1,  3,  2,  0],\n",
       "          [ 4,  1,  4,  1,  3,  4,  1],\n",
       "          [ 4,  8,  2, -1,  5,  4,  1],\n",
       "          [ 4,  9,  2, -1,  0,  4,  1],\n",
       "          [ 4,  8,  2, 12,  0,  4,  1],\n",
       "          [ 4, 11,  6, -1,  4,  4,  0]], dtype=torch.int8),\n",
       "  tensor([[ 0.7638, -0.8381,  0.7524],\n",
       "          [ 0.3972,  0.4450,  1.5356],\n",
       "          [-0.0426, -0.8867, -0.0308],\n",
       "          [-0.0426, -0.7289,  1.9272],\n",
       "          [ 0.2506, -1.0183, -0.0308],\n",
       "          [-1.3622, -1.1991, -0.4224],\n",
       "          [ 0.7638, -1.3770, -0.0308],\n",
       "          [-0.1160, -0.4817, -1.2056],\n",
       "          [ 0.5439,  1.3116, -0.4224],\n",
       "          [-0.1893,  0.2552, -0.0308],\n",
       "          [-1.1423,  3.2160,  1.1440],\n",
       "          [-1.5089,  0.2511, -0.0308],\n",
       "          [-0.6291, -0.3580, -0.0308],\n",
       "          [-0.6291, -1.2742, -0.0308],\n",
       "          [ 0.3239, -0.9959, -0.0308],\n",
       "          [ 0.9104,  0.8958, -0.4224]], dtype=torch.float64)),\n",
       " tensor([1, 1, 0, 1, 0, 0, 0, 0, 1, 1, 0, 0, 0, 1, 0, 0], dtype=torch.int8))"
      ]
     },
     "execution_count": null,
     "metadata": {},
     "output_type": "execute_result"
    }
   ],
   "source": [
    "dl.one_batch()"
   ]
  },
  {
   "cell_type": "code",
   "execution_count": null,
   "metadata": {},
   "outputs": [],
   "source": []
  }
 ],
 "metadata": {
  "kernelspec": {
   "display_name": "Python 3",
   "language": "python",
   "name": "python3"
  }
 },
 "nbformat": 4,
 "nbformat_minor": 2
}
