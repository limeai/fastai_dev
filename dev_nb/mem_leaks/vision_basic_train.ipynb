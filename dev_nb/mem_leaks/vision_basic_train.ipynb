{
 "cells": [
  {
   "cell_type": "markdown",
   "metadata": {},
   "source": [
    "# Tracking memory leaks / memory fragmentation\n",
    "\n",
    "This notebook is for finding out where fastai doesn't allocate GPU RAM efficiently. Feel free to add other sections. Currently it only does a basic training loop, with some unfreezing and inference.\n",
    "\n",
    "The detection comes from reading the output of [IPyExperimentsPytorch](https://github.com/stas00/ipyexperiments/) per-cell reports.\n",
    "\n",
    "In particular watch Delta Peak column which may indicate where more GPU RAM was allocated before freeing some, which may lead to smalish holes in allocated GPU RAM which can't be re-used and thus causing fragmentation and leading to less total available GPU RAM."
   ]
  },
  {
   "cell_type": "code",
   "execution_count": null,
   "metadata": {},
   "outputs": [],
   "source": [
    "%reload_ext autoreload\n",
    "%autoreload 2\n",
    "%matplotlib inline"
   ]
  },
  {
   "cell_type": "code",
   "execution_count": null,
   "metadata": {},
   "outputs": [],
   "source": [
    "from fastai.vision import *"
   ]
  },
  {
   "cell_type": "code",
   "execution_count": null,
   "metadata": {},
   "outputs": [],
   "source": [
    "from pathlib import Path\n",
    "import numpy as np\n",
    "from ipyexperiments import IPyExperimentsPytorch\n",
    "#! pip install ipyexperiments"
   ]
  },
  {
   "cell_type": "code",
   "execution_count": null,
   "metadata": {},
   "outputs": [],
   "source": [
    "device = torch.device(\"cuda:0\" if torch.cuda.is_available() else \"cpu\")\n",
    "assert str(device) == 'cuda:0', f\"we want GPU, got {device}\""
   ]
  },
  {
   "cell_type": "code",
   "execution_count": null,
   "metadata": {},
   "outputs": [],
   "source": [
    "from IPython.display import Markdown, display\n",
    "def alert(string, color='red'):\n",
    "    display(Markdown(f\"<span style='color:{color}'>**{string}**</span>\"))"
   ]
  },
  {
   "cell_type": "code",
   "execution_count": null,
   "metadata": {},
   "outputs": [],
   "source": [
    "# x1 = consume_cpu(2**14) # about 1GB\n",
    "def consume_gpu(n): return torch.ones((n, n)).cuda()\n",
    "def consume_1gb(): return [consume_gpu(2**14)]\n",
    "def consume_6gb(): return [consume_1gb() for x in range(6) ]\n",
    "\n",
    "def reclaim():\n",
    "    gc.collect()\n",
    "    torch.cuda.empty_cache()"
   ]
  },
  {
   "cell_type": "code",
   "execution_count": null,
   "metadata": {},
   "outputs": [],
   "source": [
    "import tracemalloc, threading, torch, time, pynvml\n",
    "from fastai.utils.mem import *\n",
    "from fastai.vision import *\n",
    "\n",
    "if not torch.cuda.is_available(): raise Exception(\"pytorch is required\")\n",
    "\n",
    "def preload_pytorch():\n",
    "    torch.ones((1, 1)).cuda()\n",
    "    \n",
    "def gpu_mem_get_used_no_cache():\n",
    "    torch.cuda.empty_cache()\n",
    "    return gpu_mem_get().used\n",
    "\n",
    "def gpu_mem_used_get_fast(gpu_handle):\n",
    "    info = pynvml.nvmlDeviceGetMemoryInfo(gpu_handle)\n",
    "    return int(info.used/2**20)\n",
    "\n",
    "def torch_mem_report():\n",
    "    torch.cuda.empty_cache()\n",
    "    print(list(map(lambda x: int(x/2**20), [torch.cuda.memory_allocated(), torch.cuda.max_memory_allocated(), torch.cuda.memory_cached(), torch.cuda.max_memory_cached()])))\n",
    "    \n",
    "preload_pytorch()\n",
    "pynvml.nvmlInit()\n",
    "\n",
    "class PeakMemMetric(LearnerCallback):\n",
    "    _order=-20 # Needs to run before the recorder\n",
    "\n",
    "    def peak_monitor_start(self):\n",
    "        self.peak_monitoring = True\n",
    "\n",
    "        # start RAM tracing\n",
    "        tracemalloc.start()\n",
    "\n",
    "        # this thread samples RAM usage as long as the current epoch of the fit loop is running\n",
    "        peak_monitor_thread = threading.Thread(target=self.peak_monitor_func)\n",
    "        peak_monitor_thread.daemon = True\n",
    "        peak_monitor_thread.start()\n",
    "        \n",
    "    def peak_monitor_stop(self):\n",
    "        tracemalloc.stop()\n",
    "        self.peak_monitoring = False\n",
    "        \n",
    "    def peak_monitor_func(self):\n",
    "        self.gpu_mem_used_peak = -1\n",
    "\n",
    "        gpu_id = torch.cuda.current_device()\n",
    "        gpu_handle = pynvml.nvmlDeviceGetHandleByIndex(gpu_id)\n",
    "\n",
    "        while True:\n",
    "            gpu_mem_used = gpu_mem_used_get_fast(gpu_handle)\n",
    "            self.gpu_mem_used_peak = max(gpu_mem_used, self.gpu_mem_used_peak)\n",
    "            if not self.peak_monitoring: break\n",
    "            time.sleep(0.001) # 1msec\n",
    "\n",
    "    def on_train_begin(self, **kwargs):\n",
    "        self.learn.recorder.add_metric_names(['cpu used',  'peak', 'gpu used',  'peak'])\n",
    "                    \n",
    "    def on_epoch_begin(self, **kwargs):\n",
    "        self.peak_monitor_start()\n",
    "        self.gpu_before = gpu_mem_get_used_no_cache()\n",
    "\n",
    "    def on_epoch_end(self, **kwargs):\n",
    "        cpu_current, cpu_peak =  list(map(lambda x: int(x/2**20), tracemalloc.get_traced_memory()))\n",
    "        gpu_current = gpu_mem_get_used_no_cache() - self.gpu_before\n",
    "        gpu_peak    = self.gpu_mem_used_peak      - self.gpu_before\n",
    "        self.peak_monitor_stop()\n",
    "        # The numbers are deltas in MBs (beginning of the epoch and the end)\n",
    "        self.learn.recorder.add_metrics([cpu_current, cpu_peak, gpu_current, gpu_peak])"
   ]
  },
  {
   "cell_type": "markdown",
   "metadata": {},
   "source": [
    "# Prep dataset"
   ]
  },
  {
   "cell_type": "code",
   "execution_count": null,
   "metadata": {},
   "outputs": [
    {
     "name": "stdout",
     "output_type": "stream",
     "text": [
      "\n",
      "*** Experiment started with the Pytorch backend\n",
      "Device: ID 0, GeForce GTX 1070 Ti (8119 RAM)\n",
      "\n",
      "\n",
      "*** Current state:\n",
      "RAM:  Used  Free  Total      Util\n",
      "CPU:  2277  9470  31588 MB   7.21% \n",
      "GPU:  1474  6645   8119 MB  18.15% \n",
      "\n",
      "\n",
      "･ RAM: △Consumed △Peaked  Used Total | Exec time 0.000s\n",
      "･ CPU:         0       0     2277 MB |\n",
      "･ GPU:         0       0     1474 MB |\n"
     ]
    }
   ],
   "source": [
    "exp1 = IPyExperimentsPytorch()"
   ]
  },
  {
   "cell_type": "code",
   "execution_count": null,
   "metadata": {},
   "outputs": [
    {
     "name": "stdout",
     "output_type": "stream",
     "text": [
      "･ RAM: △Consumed △Peaked  Used Total | Exec time 0.004s\n",
      "･ CPU:         0       1     2278 MB |\n",
      "･ GPU:         0       0     1474 MB |\n"
     ]
    }
   ],
   "source": [
    "path = decompress_data(URLs.MNIST)"
   ]
  },
  {
   "cell_type": "code",
   "execution_count": null,
   "metadata": {},
   "outputs": [
    {
     "name": "stdout",
     "output_type": "stream",
     "text": [
      "･ RAM: △Consumed △Peaked  Used Total | Exec time 0.007s\n",
      "･ CPU:         0       0     2278 MB |\n",
      "･ GPU:         0       0     1474 MB |\n"
     ]
    }
   ],
   "source": [
    "# setup\n",
    "defaults.cmap='binary'\n",
    "bs=512\n",
    "tfms = ([*rand_pad(padding=3, size=28, mode='zeros')], [])\n",
    "#arch=\"resnet34\"\n",
    "arch=\"resnet50\""
   ]
  },
  {
   "cell_type": "code",
   "execution_count": null,
   "metadata": {},
   "outputs": [
    {
     "data": {
      "text/plain": [
       "ImageItemList (70000 items)\n",
       "[Image (1, 28, 28), Image (1, 28, 28), Image (1, 28, 28), Image (1, 28, 28), Image (1, 28, 28)]...\n",
       "Path: /home/stas/.fastai/data/mnist_png"
      ]
     },
     "execution_count": null,
     "metadata": {},
     "output_type": "execute_result"
    },
    {
     "name": "stdout",
     "output_type": "stream",
     "text": [
      "･ RAM: △Consumed △Peaked  Used Total | Exec time 0.512s\n",
      "･ CPU:        26       0     2350 MB |\n",
      "･ GPU:         0       0     1474 MB |\n"
     ]
    }
   ],
   "source": [
    "il = ImageItemList.from_folder(path, convert_mode='L')\n",
    "il"
   ]
  },
  {
   "cell_type": "code",
   "execution_count": null,
   "metadata": {},
   "outputs": [
    {
     "data": {
      "text/plain": [
       "ItemLists;\n",
       "\n",
       "Train: ImageItemList (60000 items)\n",
       "[Image (1, 28, 28), Image (1, 28, 28), Image (1, 28, 28), Image (1, 28, 28), Image (1, 28, 28)]...\n",
       "Path: /home/stas/.fastai/data/mnist_png;\n",
       "\n",
       "Valid: ImageItemList (10000 items)\n",
       "[Image (1, 28, 28), Image (1, 28, 28), Image (1, 28, 28), Image (1, 28, 28), Image (1, 28, 28)]...\n",
       "Path: /home/stas/.fastai/data/mnist_png;\n",
       "\n",
       "Test: None"
      ]
     },
     "execution_count": null,
     "metadata": {},
     "output_type": "execute_result"
    },
    {
     "name": "stdout",
     "output_type": "stream",
     "text": [
      "･ RAM: △Consumed △Peaked  Used Total | Exec time 0.115s\n",
      "･ CPU:         8       4     2360 MB |\n",
      "･ GPU:         0       0     1474 MB |\n"
     ]
    }
   ],
   "source": [
    "sd = il.split_by_folder(train='training', valid='testing')\n",
    "sd"
   ]
  },
  {
   "cell_type": "code",
   "execution_count": null,
   "metadata": {},
   "outputs": [
    {
     "name": "stdout",
     "output_type": "stream",
     "text": [
      "･ RAM: △Consumed △Peaked  Used Total | Exec time 0.179s\n",
      "･ CPU:         0       0     2360 MB |\n",
      "･ GPU:         0       0     1474 MB |\n"
     ]
    }
   ],
   "source": [
    "src = sd.label_from_folder()"
   ]
  },
  {
   "cell_type": "code",
   "execution_count": null,
   "metadata": {},
   "outputs": [
    {
     "name": "stdout",
     "output_type": "stream",
     "text": [
      "･ RAM: △Consumed △Peaked  Used Total | Exec time 0.001s\n",
      "･ CPU:         0       0     2360 MB |\n",
      "･ GPU:         0       0     1474 MB |\n"
     ]
    }
   ],
   "source": [
    "ll = src.transform(tfms)"
   ]
  },
  {
   "cell_type": "code",
   "execution_count": null,
   "metadata": {},
   "outputs": [
    {
     "name": "stdout",
     "output_type": "stream",
     "text": [
      "4\n"
     ]
    },
    {
     "data": {
      "image/png": "[encoded data removed]",
      "text/plain": [
       "<Figure size 216x216 with 1 Axes>"
      ]
     },
     "metadata": {
      "needs_background": "light"
     },
     "output_type": "display_data"
    },
    {
     "name": "stdout",
     "output_type": "stream",
     "text": [
      "･ RAM: △Consumed △Peaked  Used Total | Exec time 0.317s\n",
      "･ CPU:         0       1     2362 MB |\n",
      "･ GPU:         0       0     1474 MB |\n"
     ]
    }
   ],
   "source": [
    "data = ll.databunch(bs=bs).normalize(imagenet_stats)\n",
    "x,y = data.train_ds[0]\n",
    "x.show()\n",
    "print(y)"
   ]
  },
  {
   "cell_type": "markdown",
   "metadata": {},
   "source": [
    "# Train and Validate\n"
   ]
  },
  {
   "cell_type": "code",
   "execution_count": null,
   "metadata": {},
   "outputs": [
    {
     "name": "stdout",
     "output_type": "stream",
     "text": [
      "･ RAM: △Consumed △Peaked  Used Total | Exec time 0.001s\n",
      "･ CPU:         0       0     2362 MB |\n",
      "･ GPU:         0       0     1474 MB |\n"
     ]
    }
   ],
   "source": [
    "model = getattr(models, arch) # models.resnet34"
   ]
  },
  {
   "cell_type": "code",
   "execution_count": null,
   "metadata": {},
   "outputs": [
    {
     "name": "stdout",
     "output_type": "stream",
     "text": [
      "･ RAM: △Consumed △Peaked  Used Total | Exec time 0.792s\n",
      "･ CPU:         0       0     2522 MB |\n",
      "･ GPU:       106       0     1580 MB |\n"
     ]
    }
   ],
   "source": [
    "learn = create_cnn(data, model, metrics=[accuracy], callback_fns=PeakMemMetric)"
   ]
  },
  {
   "cell_type": "code",
   "execution_count": null,
   "metadata": {},
   "outputs": [
    {
     "data": {
      "text/html": [],
      "text/plain": [
       "<IPython.core.display.HTML object>"
      ]
     },
     "metadata": {},
     "output_type": "display_data"
    },
    {
     "name": "stdout",
     "output_type": "stream",
     "text": [
      "LR Finder is complete, type {learner_name}.recorder.plot() to see the graph.\n",
      "･ RAM: △Consumed △Peaked  Used Total | Exec time 16.813s\n",
      "･ CPU:         0       0     2532 MB |\n",
      "･ GPU:        14    6206     1594 MB |\n"
     ]
    }
   ],
   "source": [
    "learn.lr_find()"
   ]
  },
  {
   "cell_type": "code",
   "execution_count": null,
   "metadata": {},
   "outputs": [
    {
     "data": {
      "text/html": [],
      "text/plain": [
       "<IPython.core.display.HTML object>"
      ]
     },
     "metadata": {},
     "output_type": "display_data"
    },
    {
     "name": "stdout",
     "output_type": "stream",
     "text": [
      "LR Finder is complete, type {learner_name}.recorder.plot() to see the graph.\n",
      "･ RAM: △Consumed △Peaked  Used Total | Exec time 12.733s\n",
      "･ CPU:         0       0     2533 MB |\n",
      "･ GPU:         0     964     1594 MB |\n"
     ]
    }
   ],
   "source": [
    "# 2nd time to check for leaks\n",
    "learn.lr_find()\n",
    "# gpu delta consumed should be zero\n",
    "# but why peaked is much smaller?"
   ]
  },
  {
   "cell_type": "code",
   "execution_count": null,
   "metadata": {},
   "outputs": [
    {
     "name": "stdout",
     "output_type": "stream",
     "text": [
      "･ RAM: △Consumed △Peaked  Used Total | Exec time 0.039s\n",
      "･ CPU:         0       0     2533 MB |\n",
      "･ GPU:         0       0     1594 MB |\n"
     ]
    }
   ],
   "source": [
    "reclaim() # resets lr_find's GPU RAM consumption"
   ]
  },
  {
   "cell_type": "code",
   "execution_count": null,
   "metadata": {},
   "outputs": [
    {
     "name": "stdout",
     "output_type": "stream",
     "text": [
      "･ RAM: △Consumed △Peaked  Used Total | Exec time 0.025s\n",
      "･ CPU:         0       0     2533 MB |\n",
      "･ GPU:         0       0     1594 MB |\n"
     ]
    }
   ],
   "source": [
    "learn.recorder.plot()"
   ]
  },
  {
   "cell_type": "code",
   "execution_count": null,
   "metadata": {},
   "outputs": [
    {
     "data": {
      "text/html": [
       "Total time: 00:19 <p><table style='width:600px; margin-bottom:10px'>\n",
       "  <tr>\n",
       "    <th>epoch</th>\n",
       "    <th>train_loss</th>\n",
       "    <th>valid_loss</th>\n",
       "    <th>accuracy</th>\n",
       "    <th>cpu used</th>\n",
       "    <th>peak</th>\n",
       "    <th>gpu used</th>\n",
       "    <th>peak</th>\n",
       "  </tr>\n",
       "  <tr>\n",
       "    <th>1</th>\n",
       "    <th>0.216379</th>\n",
       "    <th>0.062475</th>\n",
       "    <th>0.979200</th>\n",
       "    <th>0</th>\n",
       "    <th>2</th>\n",
       "    <th>42</th>\n",
       "    <th>3968</th>\n",
       "  </tr>\n",
       "</table>\n"
      ],
      "text/plain": [
       "<IPython.core.display.HTML object>"
      ]
     },
     "metadata": {},
     "output_type": "display_data"
    },
    {
     "name": "stdout",
     "output_type": "stream",
     "text": [
      "･ RAM: △Consumed △Peaked  Used Total | Exec time 19.321s\n",
      "･ CPU:         0       0     2533 MB |\n",
      "･ GPU:        26    3942     1620 MB |\n"
     ]
    }
   ],
   "source": [
    "learn.fit_one_cycle(1, max_lr=1e-2)"
   ]
  },
  {
   "cell_type": "code",
   "execution_count": null,
   "metadata": {},
   "outputs": [],
   "source": []
  },
  {
   "cell_type": "code",
   "execution_count": null,
   "metadata": {},
   "outputs": [
    {
     "data": {
      "text/html": [
       "Total time: 00:17 <p><table style='width:600px; margin-bottom:10px'>\n",
       "  <tr>\n",
       "    <th>epoch</th>\n",
       "    <th>train_loss</th>\n",
       "    <th>valid_loss</th>\n",
       "    <th>accuracy</th>\n",
       "    <th>cpu used</th>\n",
       "    <th>peak</th>\n",
       "    <th>gpu used</th>\n",
       "    <th>peak</th>\n",
       "  </tr>\n",
       "  <tr>\n",
       "    <th>1</th>\n",
       "    <th>0.076905</th>\n",
       "    <th>0.033432</th>\n",
       "    <th>0.989500</th>\n",
       "    <th>0</th>\n",
       "    <th>2</th>\n",
       "    <th>14</th>\n",
       "    <th>954</th>\n",
       "  </tr>\n",
       "</table>\n"
      ],
      "text/plain": [
       "<IPython.core.display.HTML object>"
      ]
     },
     "metadata": {},
     "output_type": "display_data"
    },
    {
     "data": {
      "text/html": [
       "Total time: 00:35 <p><table style='width:600px; margin-bottom:10px'>\n",
       "  <tr>\n",
       "    <th>epoch</th>\n",
       "    <th>train_loss</th>\n",
       "    <th>valid_loss</th>\n",
       "    <th>accuracy</th>\n",
       "    <th>cpu used</th>\n",
       "    <th>peak</th>\n",
       "    <th>gpu used</th>\n",
       "    <th>peak</th>\n",
       "  </tr>\n",
       "  <tr>\n",
       "    <th>1</th>\n",
       "    <th>0.074024</th>\n",
       "    <th>0.071492</th>\n",
       "    <th>0.977700</th>\n",
       "    <th>0</th>\n",
       "    <th>2</th>\n",
       "    <th>14</th>\n",
       "    <th>954</th>\n",
       "  </tr>\n",
       "  <tr>\n",
       "    <th>2</th>\n",
       "    <th>0.046048</th>\n",
       "    <th>0.024421</th>\n",
       "    <th>0.991800</th>\n",
       "    <th>0</th>\n",
       "    <th>2</th>\n",
       "    <th>6</th>\n",
       "    <th>944</th>\n",
       "  </tr>\n",
       "</table>\n"
      ],
      "text/plain": [
       "<IPython.core.display.HTML object>"
      ]
     },
     "metadata": {},
     "output_type": "display_data"
    },
    {
     "name": "stdout",
     "output_type": "stream",
     "text": [
      "･ RAM: △Consumed △Peaked  Used Total | Exec time 54.109s\n",
      "･ CPU:         0       0     2534 MB |\n",
      "･ GPU:         0     958     1620 MB |\n"
     ]
    }
   ],
   "source": [
    "# cycle this:\n",
    "learn.fit_one_cycle(1, max_lr=1e-2)\n",
    "learn.fit_one_cycle(2, max_lr=1e-2)\n",
    "learn.save(f'reload1')\n",
    "_=learn.load(f'reload1')\n",
    "reclaim() # resets lr_find's GPU RAM consumption"
   ]
  },
  {
   "cell_type": "code",
   "execution_count": null,
   "metadata": {},
   "outputs": [
    {
     "name": "stdout",
     "output_type": "stream",
     "text": [
      "･ RAM: △Consumed △Peaked  Used Total | Exec time 0.040s\n",
      "･ CPU:         0       0     2534 MB |\n",
      "･ GPU:         0       0     1620 MB |\n"
     ]
    }
   ],
   "source": [
    "reclaim() # resets fit_one_cycle's GPU RAM consumption"
   ]
  },
  {
   "cell_type": "code",
   "execution_count": null,
   "metadata": {},
   "outputs": [
    {
     "name": "stdout",
     "output_type": "stream",
     "text": [
      "･ RAM: △Consumed △Peaked  Used Total | Exec time 0.187s\n",
      "･ CPU:         0       0     2534 MB |\n",
      "･ GPU:         0       0     1620 MB |\n"
     ]
    }
   ],
   "source": [
    "learn.save(f'reload1')"
   ]
  },
  {
   "cell_type": "markdown",
   "metadata": {},
   "source": [
    "### Proposed Change\n",
    "end of `learn.load()` is a place where reclaim should be executed, so that the GPU RAM taken previously by the model is unloaded - otherwise it's doubled in size until gc.collect() arrives some time in the future.\n",
    "\n",
    "Currently, we get delta peaked reported @ 126MB for models.resnet34, and it should be 0 peaked, if first the model is unloaded and then loaded again."
   ]
  },
  {
   "cell_type": "code",
   "execution_count": null,
   "metadata": {},
   "outputs": [
    {
     "name": "stdout",
     "output_type": "stream",
     "text": [
      "･ RAM: △Consumed △Peaked  Used Total | Exec time 0.096s\n",
      "･ CPU:         0       0     2534 MB |\n",
      "･ GPU:         0     126     1620 MB |\n"
     ]
    }
   ],
   "source": [
    "_=learn.load(f'reload1')"
   ]
  },
  {
   "cell_type": "code",
   "execution_count": null,
   "metadata": {},
   "outputs": [
    {
     "data": {
      "text/markdown": [
       "<span style='color:red'>**load() caused potential fragmentation by not unloading model first, delta peaked at 126 MB**</span>"
      ],
      "text/plain": [
       "<IPython.core.display.Markdown object>"
      ]
     },
     "metadata": {},
     "output_type": "display_data"
    },
    {
     "name": "stdout",
     "output_type": "stream",
     "text": [
      "･ RAM: △Consumed △Peaked  Used Total | Exec time 0.002s\n",
      "･ CPU:         0       0     2534 MB |\n",
      "･ GPU:         0       0     1620 MB |\n"
     ]
    }
   ],
   "source": [
    "cpu_mem, gpu_mem, time_data = exp1.cl.data\n",
    "if b2mb(gpu_mem.peaked_delta) > 10:\n",
    "    alert(f\"load() caused potential fragmentation by not unloading model first, delta peaked at {b2mb(gpu_mem.peaked_delta)} MB\")"
   ]
  },
  {
   "cell_type": "code",
   "execution_count": null,
   "metadata": {},
   "outputs": [
    {
     "name": "stdout",
     "output_type": "stream",
     "text": [
      "･ RAM: △Consumed △Peaked  Used Total | Exec time 0.040s\n",
      "･ CPU:         0       0     2534 MB |\n",
      "･ GPU:         0       0     1620 MB |\n"
     ]
    }
   ],
   "source": [
    "reclaim() # resets load's GPU RAM consumption"
   ]
  },
  {
   "cell_type": "code",
   "execution_count": null,
   "metadata": {},
   "outputs": [
    {
     "name": "stdout",
     "output_type": "stream",
     "text": [
      "･ RAM: △Consumed △Peaked  Used Total | Exec time 0.052s\n",
      "･ CPU:         0       0     2534 MB |\n",
      "･ GPU:         0       0     1620 MB |\n"
     ]
    }
   ],
   "source": [
    "#reclaim_tensors()"
   ]
  },
  {
   "cell_type": "code",
   "execution_count": null,
   "metadata": {},
   "outputs": [
    {
     "data": {
      "text/html": [],
      "text/plain": [
       "<IPython.core.display.HTML object>"
      ]
     },
     "metadata": {},
     "output_type": "display_data"
    },
    {
     "name": "stdout",
     "output_type": "stream",
     "text": [
      "LR Finder is complete, type {learner_name}.recorder.plot() to see the graph.\n",
      "･ RAM: △Consumed △Peaked  Used Total | Exec time 12.918s\n",
      "･ CPU:         0       0     2535 MB |\n",
      "･ GPU:         0     954     1620 MB |\n"
     ]
    }
   ],
   "source": [
    "learn.lr_find(end_lr=1)"
   ]
  },
  {
   "cell_type": "code",
   "execution_count": null,
   "metadata": {},
   "outputs": [
    {
     "data": {
      "image/png": "[encoded data removed]",
      "text/plain": [
       "<Figure size 432x288 with 1 Axes>"
      ]
     },
     "metadata": {
      "needs_background": "light"
     },
     "output_type": "display_data"
    },
    {
     "name": "stdout",
     "output_type": "stream",
     "text": [
      "･ RAM: △Consumed △Peaked  Used Total | Exec time 0.355s\n",
      "･ CPU:         0       1     2535 MB |\n",
      "･ GPU:         0       0     1620 MB |\n"
     ]
    }
   ],
   "source": [
    "learn.recorder.plot()"
   ]
  },
  {
   "cell_type": "code",
   "execution_count": null,
   "metadata": {},
   "outputs": [
    {
     "data": {
      "text/html": [
       "Total time: 00:18 <p><table style='width:600px; margin-bottom:10px'>\n",
       "  <tr>\n",
       "    <th>epoch</th>\n",
       "    <th>train_loss</th>\n",
       "    <th>valid_loss</th>\n",
       "    <th>accuracy</th>\n",
       "    <th>cpu used</th>\n",
       "    <th>peak</th>\n",
       "    <th>gpu used</th>\n",
       "    <th>peak</th>\n",
       "  </tr>\n",
       "  <tr>\n",
       "    <th>1</th>\n",
       "    <th>0.053931</th>\n",
       "    <th>0.026953</th>\n",
       "    <th>0.991700</th>\n",
       "    <th>0</th>\n",
       "    <th>2</th>\n",
       "    <th>4</th>\n",
       "    <th>954</th>\n",
       "  </tr>\n",
       "</table>\n"
      ],
      "text/plain": [
       "<IPython.core.display.HTML object>"
      ]
     },
     "metadata": {},
     "output_type": "display_data"
    },
    {
     "name": "stdout",
     "output_type": "stream",
     "text": [
      "･ RAM: △Consumed △Peaked  Used Total | Exec time 18.119s\n",
      "･ CPU:         0       0     2535 MB |\n",
      "･ GPU:         0     954     1620 MB |\n"
     ]
    }
   ],
   "source": [
    "learn.fit_one_cycle(1, max_lr=1e-2)"
   ]
  },
  {
   "cell_type": "code",
   "execution_count": null,
   "metadata": {},
   "outputs": [
    {
     "name": "stdout",
     "output_type": "stream",
     "text": [
      "･ RAM: △Consumed △Peaked  Used Total | Exec time 0.146s\n",
      "･ CPU:         0       0     2535 MB |\n",
      "･ GPU:         0       0     1620 MB |\n"
     ]
    }
   ],
   "source": [
    "learn.save(f'leak2')"
   ]
  },
  {
   "cell_type": "markdown",
   "metadata": {},
   "source": [
    "## Fine tuning"
   ]
  },
  {
   "cell_type": "code",
   "execution_count": null,
   "metadata": {},
   "outputs": [
    {
     "name": "stdout",
     "output_type": "stream",
     "text": [
      "･ RAM: △Consumed △Peaked  Used Total | Exec time 0.096s\n",
      "･ CPU:         0       0     2535 MB |\n",
      "･ GPU:         0     126     1620 MB |\n"
     ]
    }
   ],
   "source": [
    "_=learn.load(f'leak2')"
   ]
  },
  {
   "cell_type": "code",
   "execution_count": null,
   "metadata": {},
   "outputs": [
    {
     "name": "stdout",
     "output_type": "stream",
     "text": [
      "･ RAM: △Consumed △Peaked  Used Total | Exec time 0.004s\n",
      "･ CPU:         0       0     2535 MB |\n",
      "･ GPU:         0       0     1620 MB |\n"
     ]
    }
   ],
   "source": [
    "learn.unfreeze()"
   ]
  },
  {
   "cell_type": "code",
   "execution_count": null,
   "metadata": {},
   "outputs": [
    {
     "data": {
      "text/html": [],
      "text/plain": [
       "<IPython.core.display.HTML object>"
      ]
     },
     "metadata": {},
     "output_type": "display_data"
    },
    {
     "name": "stdout",
     "output_type": "stream",
     "text": [
      "LR Finder is complete, type {learner_name}.recorder.plot() to see the graph.\n",
      "･ RAM: △Consumed △Peaked  Used Total | Exec time 12.692s\n",
      "･ CPU:         0       0     2535 MB |\n",
      "･ GPU:       226    3486     1846 MB |\n"
     ]
    }
   ],
   "source": [
    "learn.lr_find()"
   ]
  },
  {
   "cell_type": "code",
   "execution_count": null,
   "metadata": {},
   "outputs": [
    {
     "data": {
      "text/html": [],
      "text/plain": [
       "<IPython.core.display.HTML object>"
      ]
     },
     "metadata": {},
     "output_type": "display_data"
    },
    {
     "name": "stdout",
     "output_type": "stream",
     "text": [
      "LR Finder is complete, type {learner_name}.recorder.plot() to see the graph.\n",
      "･ RAM: △Consumed △Peaked  Used Total | Exec time 10.294s\n",
      "･ CPU:         0       0     2535 MB |\n",
      "･ GPU:         0     944     1846 MB |\n"
     ]
    }
   ],
   "source": [
    "# 2nd time to check for leaks\n",
    "learn.lr_find()\n",
    "# gpu delta consumed should be zero"
   ]
  },
  {
   "cell_type": "code",
   "execution_count": null,
   "metadata": {},
   "outputs": [
    {
     "data": {
      "image/png": "[encoded data removed]",
      "text/plain": [
       "<Figure size 432x288 with 1 Axes>"
      ]
     },
     "metadata": {
      "needs_background": "light"
     },
     "output_type": "display_data"
    },
    {
     "name": "stdout",
     "output_type": "stream",
     "text": [
      "･ RAM: △Consumed △Peaked  Used Total | Exec time 0.313s\n",
      "･ CPU:         0       1     2535 MB |\n",
      "･ GPU:         0       0     1846 MB |\n"
     ]
    }
   ],
   "source": [
    "learn.recorder.plot()"
   ]
  },
  {
   "cell_type": "code",
   "execution_count": null,
   "metadata": {},
   "outputs": [
    {
     "data": {
      "text/html": [
       "Total time: 00:21 <p><table style='width:600px; margin-bottom:10px'>\n",
       "  <tr>\n",
       "    <th>epoch</th>\n",
       "    <th>train_loss</th>\n",
       "    <th>valid_loss</th>\n",
       "    <th>accuracy</th>\n",
       "    <th>cpu used</th>\n",
       "    <th>peak</th>\n",
       "    <th>gpu used</th>\n",
       "    <th>peak</th>\n",
       "  </tr>\n",
       "  <tr>\n",
       "    <th>1</th>\n",
       "    <th>0.040549</th>\n",
       "    <th>0.024023</th>\n",
       "    <th>0.991800</th>\n",
       "    <th>0</th>\n",
       "    <th>2</th>\n",
       "    <th>510</th>\n",
       "    <th>942</th>\n",
       "  </tr>\n",
       "</table>\n"
      ],
      "text/plain": [
       "<IPython.core.display.HTML object>"
      ]
     },
     "metadata": {},
     "output_type": "display_data"
    },
    {
     "name": "stdout",
     "output_type": "stream",
     "text": [
      "･ RAM: △Consumed △Peaked  Used Total | Exec time 21.576s\n",
      "･ CPU:         0       0     2535 MB |\n",
      "･ GPU:       494     432     2340 MB |\n"
     ]
    }
   ],
   "source": [
    "lr=1e-2\n",
    "learn.fit_one_cycle(1, slice(1e-5, lr/5))\n",
    "# XXX: something is wrong here measurement-wise\n",
    "# callback reports peak of 942 vs. cell peak reports at 432 - the measuring thread of the cell probably missed that higher peak - need to switch to the new pytorch max_memory_allocated with reset_ to get the exact measurement. must wait for pytorch-1.0.1 to be out.\n",
    "# "
   ]
  },
  {
   "cell_type": "code",
   "execution_count": null,
   "metadata": {},
   "outputs": [
    {
     "name": "stdout",
     "output_type": "stream",
     "text": [
      "･ RAM: △Consumed △Peaked  Used Total | Exec time 0.359s\n",
      "･ CPU:         0       1     2535 MB |\n",
      "･ GPU:         0       0     2340 MB |\n"
     ]
    }
   ],
   "source": [
    "learn.save(f'leak3')"
   ]
  },
  {
   "cell_type": "code",
   "execution_count": null,
   "metadata": {},
   "outputs": [
    {
     "name": "stdout",
     "output_type": "stream",
     "text": [
      "･ RAM: △Consumed △Peaked  Used Total | Exec time 0.004s\n",
      "･ CPU:         0       0     2535 MB |\n",
      "･ GPU:         0       0     2340 MB |\n"
     ]
    }
   ],
   "source": [
    "learn.freeze()"
   ]
  },
  {
   "cell_type": "code",
   "execution_count": null,
   "metadata": {},
   "outputs": [
    {
     "name": "stdout",
     "output_type": "stream",
     "text": [
      "･ RAM: △Consumed △Peaked  Used Total | Exec time 0.178s\n",
      "･ CPU:         0      98     2535 MB |\n",
      "･ GPU:         0       0     2340 MB |\n"
     ]
    }
   ],
   "source": [
    "learn.export()"
   ]
  },
  {
   "cell_type": "markdown",
   "metadata": {},
   "source": [
    "# Inference via learn.export"
   ]
  },
  {
   "cell_type": "code",
   "execution_count": null,
   "metadata": {},
   "outputs": [
    {
     "name": "stdout",
     "output_type": "stream",
     "text": [
      "･ RAM: △Consumed △Peaked  Used Total | Exec time 0.155s\n",
      "･ CPU:         3     106     2537 MB |\n",
      "･ GPU:         0       0     2340 MB |\n"
     ]
    }
   ],
   "source": [
    "learn = load_learner(path, test=ImageItemList.from_folder(path/'testing'))"
   ]
  },
  {
   "cell_type": "code",
   "execution_count": null,
   "metadata": {},
   "outputs": [
    {
     "data": {
      "text/plain": [
       "LabelList\n",
       "y: EmptyLabelList (10000 items)\n",
       "[EmptyLabel , EmptyLabel , EmptyLabel , EmptyLabel , EmptyLabel ]...\n",
       "Path: .\n",
       "x: ImageItemList (10000 items)\n",
       "[Image (3, 28, 28), Image (3, 28, 28), Image (3, 28, 28), Image (3, 28, 28), Image (3, 28, 28)]...\n",
       "Path: /home/stas/.fastai/data/mnist_png"
      ]
     },
     "execution_count": null,
     "metadata": {},
     "output_type": "execute_result"
    },
    {
     "data": {
      "text/plain": [
       "10000"
      ]
     },
     "execution_count": null,
     "metadata": {},
     "output_type": "execute_result"
    },
    {
     "name": "stdout",
     "output_type": "stream",
     "text": [
      "･ RAM: △Consumed △Peaked  Used Total | Exec time 0.004s\n",
      "･ CPU:         0       0     2537 MB |\n",
      "･ GPU:         0       0     2340 MB |\n"
     ]
    }
   ],
   "source": [
    "learn.data.test_ds\n",
    "len(learn.data.test_ds)"
   ]
  },
  {
   "cell_type": "code",
   "execution_count": null,
   "metadata": {},
   "outputs": [
    {
     "name": "stdout",
     "output_type": "stream",
     "text": [
      "･ RAM: △Consumed △Peaked  Used Total | Exec time 3.227s\n",
      "･ CPU:         0       0     2537 MB |\n",
      "･ GPU:         0    2596     2340 MB |\n"
     ]
    }
   ],
   "source": [
    "predictions = learn.get_preds(ds_type=DatasetType.Test)"
   ]
  },
  {
   "cell_type": "code",
   "execution_count": null,
   "metadata": {},
   "outputs": [
    {
     "data": {
      "text/plain": [
       "10000"
      ]
     },
     "execution_count": null,
     "metadata": {},
     "output_type": "execute_result"
    },
    {
     "name": "stdout",
     "output_type": "stream",
     "text": [
      "･ RAM: △Consumed △Peaked  Used Total | Exec time 0.002s\n",
      "･ CPU:         0       0     2537 MB |\n",
      "･ GPU:         0       0     2340 MB |\n"
     ]
    }
   ],
   "source": [
    "len(predictions[0])"
   ]
  },
  {
   "cell_type": "code",
   "execution_count": null,
   "metadata": {},
   "outputs": [
    {
     "data": {
      "text/plain": [
       "array([1.266012e-07, 1.467593e-06, 9.686403e-07, 2.154748e-08, 9.999814e-01, 7.464445e-08, 3.189584e-06, 4.764192e-06,\n",
       "       2.979431e-06, 4.936371e-06], dtype=float32)"
      ]
     },
     "execution_count": null,
     "metadata": {},
     "output_type": "execute_result"
    },
    {
     "data": {
      "text/html": [
       "<div>\n",
       "<style scoped>\n",
       "    .dataframe tbody tr th:only-of-type {\n",
       "        vertical-align: middle;\n",
       "    }\n",
       "\n",
       "    .dataframe tbody tr th {\n",
       "        vertical-align: top;\n",
       "    }\n",
       "\n",
       "    .dataframe thead th {\n",
       "        text-align: right;\n",
       "    }\n",
       "</style>\n",
       "<table border=\"1\" class=\"dataframe\">\n",
       "  <thead>\n",
       "    <tr style=\"text-align: right;\">\n",
       "      <th></th>\n",
       "      <th>0</th>\n",
       "      <th>1</th>\n",
       "      <th>2</th>\n",
       "      <th>3</th>\n",
       "      <th>4</th>\n",
       "      <th>5</th>\n",
       "      <th>6</th>\n",
       "      <th>7</th>\n",
       "      <th>8</th>\n",
       "      <th>9</th>\n",
       "    </tr>\n",
       "  </thead>\n",
       "  <tbody>\n",
       "    <tr>\n",
       "      <th>0</th>\n",
       "      <td>1.266012e-07</td>\n",
       "      <td>0.000001</td>\n",
       "      <td>9.686403e-07</td>\n",
       "      <td>2.154748e-08</td>\n",
       "      <td>0.999981</td>\n",
       "      <td>7.464445e-08</td>\n",
       "      <td>0.000003</td>\n",
       "      <td>0.000005</td>\n",
       "      <td>0.000003</td>\n",
       "      <td>0.000005</td>\n",
       "    </tr>\n",
       "    <tr>\n",
       "      <th>1</th>\n",
       "      <td>2.941443e-05</td>\n",
       "      <td>0.000084</td>\n",
       "      <td>6.121457e-05</td>\n",
       "      <td>8.575105e-06</td>\n",
       "      <td>0.992541</td>\n",
       "      <td>1.012440e-05</td>\n",
       "      <td>0.000067</td>\n",
       "      <td>0.000626</td>\n",
       "      <td>0.000338</td>\n",
       "      <td>0.006233</td>\n",
       "    </tr>\n",
       "    <tr>\n",
       "      <th>2</th>\n",
       "      <td>8.962942e-05</td>\n",
       "      <td>0.000127</td>\n",
       "      <td>1.539169e-04</td>\n",
       "      <td>2.455930e-05</td>\n",
       "      <td>0.975272</td>\n",
       "      <td>4.038281e-05</td>\n",
       "      <td>0.000182</td>\n",
       "      <td>0.000300</td>\n",
       "      <td>0.000827</td>\n",
       "      <td>0.022983</td>\n",
       "    </tr>\n",
       "    <tr>\n",
       "      <th>3</th>\n",
       "      <td>1.213701e-07</td>\n",
       "      <td>0.000002</td>\n",
       "      <td>2.753096e-07</td>\n",
       "      <td>2.414696e-08</td>\n",
       "      <td>0.999970</td>\n",
       "      <td>1.101933e-07</td>\n",
       "      <td>0.000003</td>\n",
       "      <td>0.000005</td>\n",
       "      <td>0.000005</td>\n",
       "      <td>0.000013</td>\n",
       "    </tr>\n",
       "    <tr>\n",
       "      <th>4</th>\n",
       "      <td>8.470987e-06</td>\n",
       "      <td>0.000051</td>\n",
       "      <td>8.441069e-06</td>\n",
       "      <td>3.164073e-06</td>\n",
       "      <td>0.997919</td>\n",
       "      <td>1.190504e-05</td>\n",
       "      <td>0.000059</td>\n",
       "      <td>0.000078</td>\n",
       "      <td>0.001198</td>\n",
       "      <td>0.000663</td>\n",
       "    </tr>\n",
       "  </tbody>\n",
       "</table>\n",
       "</div>"
      ],
      "text/plain": [
       "              0         1             2             3         4             5  \\\n",
       "0  1.266012e-07  0.000001  9.686403e-07  2.154748e-08  0.999981  7.464445e-08   \n",
       "1  2.941443e-05  0.000084  6.121457e-05  8.575105e-06  0.992541  1.012440e-05   \n",
       "2  8.962942e-05  0.000127  1.539169e-04  2.455930e-05  0.975272  4.038281e-05   \n",
       "3  1.213701e-07  0.000002  2.753096e-07  2.414696e-08  0.999970  1.101933e-07   \n",
       "4  8.470987e-06  0.000051  8.441069e-06  3.164073e-06  0.997919  1.190504e-05   \n",
       "\n",
       "          6         7         8         9  \n",
       "0  0.000003  0.000005  0.000003  0.000005  \n",
       "1  0.000067  0.000626  0.000338  0.006233  \n",
       "2  0.000182  0.000300  0.000827  0.022983  \n",
       "3  0.000003  0.000005  0.000005  0.000013  \n",
       "4  0.000059  0.000078  0.001198  0.000663  "
      ]
     },
     "execution_count": null,
     "metadata": {},
     "output_type": "execute_result"
    },
    {
     "name": "stdout",
     "output_type": "stream",
     "text": [
      "･ RAM: △Consumed △Peaked  Used Total | Exec time 0.038s\n",
      "･ CPU:         0       0     2537 MB |\n",
      "･ GPU:         0       0     2340 MB |\n"
     ]
    }
   ],
   "source": [
    "# get predictions as numpy\n",
    "pred = predictions[0].numpy()\n",
    "pred[0]\n",
    "pred_df = pd.DataFrame(pred)\n",
    "pred_df[:5]\n",
    "#pred_df.sort_values(by=\"preds\")"
   ]
  },
  {
   "cell_type": "markdown",
   "metadata": {},
   "source": [
    "# Inference with manual learn re-construction"
   ]
  },
  {
   "cell_type": "code",
   "execution_count": null,
   "metadata": {},
   "outputs": [
    {
     "data": {
      "text/plain": [
       "0"
      ]
     },
     "execution_count": null,
     "metadata": {},
     "output_type": "execute_result"
    },
    {
     "name": "stdout",
     "output_type": "stream",
     "text": [
      "･ RAM: △Consumed △Peaked  Used Total | Exec time 0.046s\n",
      "･ CPU:         0       0     2537 MB |\n",
      "･ GPU:         0       0     2340 MB |\n"
     ]
    }
   ],
   "source": [
    "del learn\n",
    "gc.collect()\n",
    "#learn.opt.clear()\n",
    "torch.cuda.empty_cache()"
   ]
  },
  {
   "cell_type": "code",
   "execution_count": null,
   "metadata": {},
   "outputs": [
    {
     "name": "stdout",
     "output_type": "stream",
     "text": [
      "･ RAM: △Consumed △Peaked  Used Total | Exec time 0.000s\n",
      "･ CPU:         0       0     2537 MB |\n",
      "･ GPU:         0       0     2340 MB |\n"
     ]
    }
   ],
   "source": [
    "#del exp1"
   ]
  },
  {
   "cell_type": "code",
   "execution_count": null,
   "metadata": {},
   "outputs": [
    {
     "name": "stdout",
     "output_type": "stream",
     "text": [
      "･ RAM: △Consumed △Peaked  Used Total | Exec time 0.025s\n",
      "･ CPU:         0       0     2537 MB |\n",
      "･ GPU:         0       0     2340 MB |\n"
     ]
    }
   ],
   "source": [
    "bs = 32\n",
    "tfms = get_transforms(do_flip=False)\n"
   ]
  },
  {
   "cell_type": "code",
   "execution_count": null,
   "metadata": {},
   "outputs": [
    {
     "name": "stdout",
     "output_type": "stream",
     "text": [
      "･ RAM: △Consumed △Peaked  Used Total | Exec time 0.936s\n",
      "･ CPU:         3       1     2552 MB |\n",
      "･ GPU:      -460     654     1880 MB |\n"
     ]
    }
   ],
   "source": [
    "data = (src.add_test_folder(test_folder='testing')\n",
    "        .transform(tfms) # .transform(tfms, size=256)\n",
    "        .databunch().normalize(imagenet_stats))\n",
    "learn = create_cnn(data, model)\n",
    "_=learn.load(f'leak3')\n"
   ]
  },
  {
   "cell_type": "code",
   "execution_count": null,
   "metadata": {},
   "outputs": [
    {
     "name": "stdout",
     "output_type": "stream",
     "text": [
      "･ RAM: △Consumed △Peaked  Used Total | Exec time 0.000s\n",
      "･ CPU:         0       0     2552 MB |\n",
      "･ GPU:         0       0     1880 MB |\n"
     ]
    }
   ],
   "source": [
    "# learn.data = (src.add_test_folder(test_folder='test')\n",
    "#         .transform(tfms) # .transform(tfms, size=256)\n",
    "#         .databunch().normalize(imagenet_stats))"
   ]
  },
  {
   "cell_type": "code",
   "execution_count": null,
   "metadata": {},
   "outputs": [
    {
     "data": {
      "text/plain": [
       "LabelList\n",
       "y: EmptyLabelList (10000 items)\n",
       "[EmptyLabel , EmptyLabel , EmptyLabel , EmptyLabel , EmptyLabel ]...\n",
       "Path: .\n",
       "x: ImageItemList (10000 items)\n",
       "[Image (1, 28, 28), Image (1, 28, 28), Image (1, 28, 28), Image (1, 28, 28), Image (1, 28, 28)]...\n",
       "Path: /home/stas/.fastai/data/mnist_png"
      ]
     },
     "execution_count": null,
     "metadata": {},
     "output_type": "execute_result"
    },
    {
     "data": {
      "text/plain": [
       "10000"
      ]
     },
     "execution_count": null,
     "metadata": {},
     "output_type": "execute_result"
    },
    {
     "name": "stdout",
     "output_type": "stream",
     "text": [
      "･ RAM: △Consumed △Peaked  Used Total | Exec time 0.039s\n",
      "･ CPU:         0       0     2552 MB |\n",
      "･ GPU:         0       0     1880 MB |\n"
     ]
    }
   ],
   "source": [
    "learn.data.test_ds\n",
    "len(learn.data.test_ds)"
   ]
  },
  {
   "cell_type": "code",
   "execution_count": null,
   "metadata": {},
   "outputs": [
    {
     "name": "stdout",
     "output_type": "stream",
     "text": [
      "･ RAM: △Consumed △Peaked  Used Total | Exec time 0.000s\n",
      "･ CPU:         0       0     2551 MB |\n",
      "･ GPU:         0       0     1880 MB |\n"
     ]
    }
   ],
   "source": [
    "#learn.validate()"
   ]
  },
  {
   "cell_type": "code",
   "execution_count": null,
   "metadata": {},
   "outputs": [
    {
     "name": "stdout",
     "output_type": "stream",
     "text": [
      "･ RAM: △Consumed △Peaked  Used Total | Exec time 2.293s\n",
      "･ CPU:         0       0     2552 MB |\n",
      "･ GPU:         0       0     1880 MB |\n"
     ]
    }
   ],
   "source": [
    "predictions = learn.get_preds(ds_type=DatasetType.Test)\n",
    "\n",
    "# need to also try learn.TTA()"
   ]
  },
  {
   "cell_type": "code",
   "execution_count": null,
   "metadata": {},
   "outputs": [
    {
     "data": {
      "text/plain": [
       "10000"
      ]
     },
     "execution_count": null,
     "metadata": {},
     "output_type": "execute_result"
    },
    {
     "name": "stdout",
     "output_type": "stream",
     "text": [
      "･ RAM: △Consumed △Peaked  Used Total | Exec time 0.002s\n",
      "･ CPU:         0       0     2552 MB |\n",
      "･ GPU:         0       0     1880 MB |\n"
     ]
    }
   ],
   "source": [
    "len(predictions[0])"
   ]
  },
  {
   "cell_type": "code",
   "execution_count": null,
   "metadata": {},
   "outputs": [
    {
     "data": {
      "text/plain": [
       "array([1.266012e-07, 1.467593e-06, 9.686403e-07, 2.154748e-08, 9.999814e-01, 7.464445e-08, 3.189584e-06, 4.764192e-06,\n",
       "       2.979431e-06, 4.936371e-06], dtype=float32)"
      ]
     },
     "execution_count": null,
     "metadata": {},
     "output_type": "execute_result"
    },
    {
     "data": {
      "text/html": [
       "<div>\n",
       "<style scoped>\n",
       "    .dataframe tbody tr th:only-of-type {\n",
       "        vertical-align: middle;\n",
       "    }\n",
       "\n",
       "    .dataframe tbody tr th {\n",
       "        vertical-align: top;\n",
       "    }\n",
       "\n",
       "    .dataframe thead th {\n",
       "        text-align: right;\n",
       "    }\n",
       "</style>\n",
       "<table border=\"1\" class=\"dataframe\">\n",
       "  <thead>\n",
       "    <tr style=\"text-align: right;\">\n",
       "      <th></th>\n",
       "      <th>0</th>\n",
       "      <th>1</th>\n",
       "      <th>2</th>\n",
       "      <th>3</th>\n",
       "      <th>4</th>\n",
       "      <th>5</th>\n",
       "      <th>6</th>\n",
       "      <th>7</th>\n",
       "      <th>8</th>\n",
       "      <th>9</th>\n",
       "    </tr>\n",
       "  </thead>\n",
       "  <tbody>\n",
       "    <tr>\n",
       "      <th>0</th>\n",
       "      <td>1.266012e-07</td>\n",
       "      <td>0.000001</td>\n",
       "      <td>9.686403e-07</td>\n",
       "      <td>2.154748e-08</td>\n",
       "      <td>0.999981</td>\n",
       "      <td>7.464445e-08</td>\n",
       "      <td>0.000003</td>\n",
       "      <td>0.000005</td>\n",
       "      <td>0.000003</td>\n",
       "      <td>0.000005</td>\n",
       "    </tr>\n",
       "    <tr>\n",
       "      <th>1</th>\n",
       "      <td>2.941443e-05</td>\n",
       "      <td>0.000084</td>\n",
       "      <td>6.121457e-05</td>\n",
       "      <td>8.575105e-06</td>\n",
       "      <td>0.992541</td>\n",
       "      <td>1.012440e-05</td>\n",
       "      <td>0.000067</td>\n",
       "      <td>0.000626</td>\n",
       "      <td>0.000338</td>\n",
       "      <td>0.006233</td>\n",
       "    </tr>\n",
       "    <tr>\n",
       "      <th>2</th>\n",
       "      <td>8.962942e-05</td>\n",
       "      <td>0.000127</td>\n",
       "      <td>1.539169e-04</td>\n",
       "      <td>2.455930e-05</td>\n",
       "      <td>0.975272</td>\n",
       "      <td>4.038281e-05</td>\n",
       "      <td>0.000182</td>\n",
       "      <td>0.000300</td>\n",
       "      <td>0.000827</td>\n",
       "      <td>0.022983</td>\n",
       "    </tr>\n",
       "    <tr>\n",
       "      <th>3</th>\n",
       "      <td>1.213701e-07</td>\n",
       "      <td>0.000002</td>\n",
       "      <td>2.753096e-07</td>\n",
       "      <td>2.414696e-08</td>\n",
       "      <td>0.999970</td>\n",
       "      <td>1.101933e-07</td>\n",
       "      <td>0.000003</td>\n",
       "      <td>0.000005</td>\n",
       "      <td>0.000005</td>\n",
       "      <td>0.000013</td>\n",
       "    </tr>\n",
       "    <tr>\n",
       "      <th>4</th>\n",
       "      <td>8.470987e-06</td>\n",
       "      <td>0.000051</td>\n",
       "      <td>8.441069e-06</td>\n",
       "      <td>3.164073e-06</td>\n",
       "      <td>0.997919</td>\n",
       "      <td>1.190504e-05</td>\n",
       "      <td>0.000059</td>\n",
       "      <td>0.000078</td>\n",
       "      <td>0.001198</td>\n",
       "      <td>0.000663</td>\n",
       "    </tr>\n",
       "  </tbody>\n",
       "</table>\n",
       "</div>"
      ],
      "text/plain": [
       "              0         1             2             3         4             5  \\\n",
       "0  1.266012e-07  0.000001  9.686403e-07  2.154748e-08  0.999981  7.464445e-08   \n",
       "1  2.941443e-05  0.000084  6.121457e-05  8.575105e-06  0.992541  1.012440e-05   \n",
       "2  8.962942e-05  0.000127  1.539169e-04  2.455930e-05  0.975272  4.038281e-05   \n",
       "3  1.213701e-07  0.000002  2.753096e-07  2.414696e-08  0.999970  1.101933e-07   \n",
       "4  8.470987e-06  0.000051  8.441069e-06  3.164073e-06  0.997919  1.190504e-05   \n",
       "\n",
       "          6         7         8         9  \n",
       "0  0.000003  0.000005  0.000003  0.000005  \n",
       "1  0.000067  0.000626  0.000338  0.006233  \n",
       "2  0.000182  0.000300  0.000827  0.022983  \n",
       "3  0.000003  0.000005  0.000005  0.000013  \n",
       "4  0.000059  0.000078  0.001198  0.000663  "
      ]
     },
     "execution_count": null,
     "metadata": {},
     "output_type": "execute_result"
    },
    {
     "name": "stdout",
     "output_type": "stream",
     "text": [
      "･ RAM: △Consumed △Peaked  Used Total | Exec time 0.037s\n",
      "･ CPU:         0       0     2552 MB |\n",
      "･ GPU:         0       0     1880 MB |\n"
     ]
    }
   ],
   "source": [
    "# get predictions as numpy\n",
    "pred = predictions[0].numpy()\n",
    "pred[0]\n",
    "pred_df = pd.DataFrame(pred)\n",
    "pred_df[:5]\n",
    "#pred_df.sort_values(by=\"preds\")"
   ]
  },
  {
   "cell_type": "code",
   "execution_count": null,
   "metadata": {},
   "outputs": [],
   "source": []
  }
 ],
 "metadata": {
  "kernelspec": {
   "display_name": "Python 3",
   "language": "python",
   "name": "python3"
  }
 },
 "nbformat": 4,
 "nbformat_minor": 2
}
